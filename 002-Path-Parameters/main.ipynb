{
 "cells": [
  {
   "cell_type": "markdown",
   "metadata": {},
   "source": [
    "# Path Parameters"
   ]
  },
  {
   "cell_type": "code",
   "execution_count": 8,
   "metadata": {},
   "outputs": [],
   "source": [
    "from fastapi import FastAPI\n",
    "\n",
    "app = FastAPI()\n",
    "\n",
    "@app.get(\"/items/{item_id}\")\n",
    "async def read_item(item_id: int):\n",
    "    return {\"item_id\": item_id}"
   ]
  },
  {
   "cell_type": "markdown",
   "metadata": {},
   "source": [
    "The name `item_id` should be the same as passed parameter to function."
   ]
  },
  {
   "cell_type": "markdown",
   "metadata": {},
   "source": [
    "## Order matters"
   ]
  },
  {
   "cell_type": "code",
   "execution_count": null,
   "metadata": {},
   "outputs": [],
   "source": [
    "from fastapi import FastAPI\n",
    "\n",
    "app = FastAPI()\n",
    "\n",
    "@app.get(\"/item/keyboard\")\n",
    "async def keyboard():\n",
    "    return {\"item_id\": 230591}\n",
    "\n",
    "@app.get(\"/item/{item_id}\")\n",
    "async def read_item(item_id: int):\n",
    "    return {\"item_id\": item_id}"
   ]
  },
  {
   "cell_type": "markdown",
   "metadata": {},
   "source": [
    "FastAPI starts from top to bottom, returning the first path matching the client request. So, put your static paths before dynamic ones."
   ]
  },
  {
   "cell_type": "markdown",
   "metadata": {},
   "source": [
    "## Predefined Values"
   ]
  },
  {
   "cell_type": "code",
   "execution_count": null,
   "metadata": {},
   "outputs": [],
   "source": [
    "from enum import Enum\n",
    "\n",
    "from fastapi import FastAPI\n",
    "\n",
    "class ModelName(str, Enum):\n",
    "    Razer = \"Razer Co.\"\n",
    "    Adobe = \"Adobe Ent.\"\n",
    "    Google = \"Alphabet\"\n",
    "\n",
    "app = FastAPI()\n",
    "\n",
    "@app.get(\"/items/{model_name}\")\n",
    "async def item(model_name: ModelName):\n",
    "    if model_name.value == ModelName.Adobe.value:\n",
    "        return {\"Product\": \"PhotoShop\"}\n",
    "    elif model_name is ModelName.Google:\n",
    "        return {\"Product\": \"Pixel\"}\n",
    "    return {\"Product\": f\"{ModelName.Razer.value} has no products!\"}"
   ]
  },
  {
   "cell_type": "markdown",
   "metadata": {},
   "source": [
    "Either use `model_name.value` and `ModelName.Adobe.value` with `==`\n",
    "or \n",
    "`model_name` and `ModelName.Adobe` with `is`"
   ]
  },
  {
   "cell_type": "markdown",
   "metadata": {},
   "source": [
    "`TIP`: To use `reload=True` in `uvicorn.run`, you need to pass `app` like this:\n",
    "```py\n",
    "if __name__ == \"__main__\":\n",
    "    uvicorn.run(app=\"main:app\", reload=True)\n",
    "```"
   ]
  },
  {
   "cell_type": "markdown",
   "metadata": {},
   "source": [
    "So, __Path Parameter__ is one that is both in __path__ and __function__."
   ]
  },
  {
   "cell_type": "markdown",
   "metadata": {},
   "source": [
    "## Path Parameter containing path"
   ]
  },
  {
   "cell_type": "code",
   "execution_count": null,
   "metadata": {},
   "outputs": [],
   "source": [
    "from fastapi import FastAPI\n",
    "\n",
    "app = FastAPI()\n",
    "\n",
    "@app.get(\"/files/{file_path:path}\")\n",
    "async def read_file(file_path: str):\n",
    "    return {\"file_path\": file_path}"
   ]
  }
 ],
 "metadata": {
  "kernelspec": {
   "display_name": ".venv",
   "language": "python",
   "name": "python3"
  },
  "language_info": {
   "codemirror_mode": {
    "name": "ipython",
    "version": 3
   },
   "file_extension": ".py",
   "mimetype": "text/x-python",
   "name": "python",
   "nbconvert_exporter": "python",
   "pygments_lexer": "ipython3",
   "version": "3.12.1"
  }
 },
 "nbformat": 4,
 "nbformat_minor": 2
}
