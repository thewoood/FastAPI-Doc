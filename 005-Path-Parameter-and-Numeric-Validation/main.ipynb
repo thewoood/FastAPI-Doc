{
 "cells": [
  {
   "cell_type": "markdown",
   "metadata": {},
   "source": [
    "# Path Parameter and Numeric Validation"
   ]
  },
  {
   "cell_type": "code",
   "execution_count": null,
   "metadata": {},
   "outputs": [],
   "source": [
    "from fastapi import FastAPI, Query, Path\n",
    "\n",
    "from typing import Annotated\n",
    "\n",
    "app = FastAPI()\n",
    "\n",
    "\n",
    "@app.get(\"/items/{item_id}\")\n",
    "async def read_items(\n",
    "    item_id: Annotated[int, Path(title=\"The ID of the item to get\")],\n",
    "    q: Annotated[str | None, Query(alias=\"item-query\")] = None,\n",
    "):\n",
    "    results = {\"item_id\": item_id}\n",
    "    if q:\n",
    "        results.update({\"q\": q})\n",
    "    return results"
   ]
  },
  {
   "cell_type": "markdown",
   "metadata": {},
   "source": [
    "A path param is always required, even if it's default value is set to `None`"
   ]
  },
  {
   "cell_type": "markdown",
   "metadata": {},
   "source": [
    "if you want to put a function arg with default value `before` a function arg without default value, use * to make sure everything is passed using `kwargs`"
   ]
  },
  {
   "cell_type": "code",
   "execution_count": null,
   "metadata": {},
   "outputs": [],
   "source": [
    "def function(q = None, path):\n",
    "    pass"
   ]
  },
  {
   "cell_type": "code",
   "execution_count": null,
   "metadata": {},
   "outputs": [],
   "source": [
    "def kw_function(*, q = None, path):\n",
    "    pass"
   ]
  }
 ],
 "metadata": {
  "kernelspec": {
   "display_name": ".venv",
   "language": "python",
   "name": "python3"
  },
  "language_info": {
   "name": "python",
   "version": "3.12.1"
  }
 },
 "nbformat": 4,
 "nbformat_minor": 2
}
